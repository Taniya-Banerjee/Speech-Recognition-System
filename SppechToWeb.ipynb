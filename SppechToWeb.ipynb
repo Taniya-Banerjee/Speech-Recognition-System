{
 "cells": [
  {
   "cell_type": "code",
   "execution_count": 2,
   "id": "693e4511",
   "metadata": {},
   "outputs": [],
   "source": [
    "import speech_recognition\n",
    "import pyttsx3\n",
    "import webbrowser"
   ]
  },
  {
   "cell_type": "code",
   "execution_count": 9,
   "id": "c8b89ea9",
   "metadata": {},
   "outputs": [
    {
     "name": "stdout",
     "output_type": "stream",
     "text": [
      "Speak now please\n",
      "Did you say : facebook.com\n"
     ]
    }
   ],
   "source": [
    "if __name__ == \"__main__\":\n",
    "    firefox_path = \"/Applications/Firefox.app/Contents/MacOS/firefox\"\n",
    "    # Register the browser using the custom path\n",
    "    webbrowser.register('firefox', None, webbrowser.BackgroundBrowser(firefox_path))\n",
    "\n",
    "    sr = speech_recognition.Recognizer()\n",
    "\n",
    "    with speech_recognition.Microphone() as sm:\n",
    "        sr.adjust_for_ambient_noise(sm, duration=2)\n",
    "        print('Speak now please')\n",
    "\n",
    "        audio = sr.listen(sm)\n",
    "\n",
    "        try: \n",
    "            text = sr.recognize_google(audio)\n",
    "            text = text.lower()\n",
    "\n",
    "            print('Did you say : ' + text)\n",
    "            \n",
    "            webbrowser.get('firefox').open(text)\n",
    "        except Exception as err:\n",
    "            print(\"Error..\" + str(err))\n",
    "            "
   ]
  },
  {
   "cell_type": "code",
   "execution_count": null,
   "id": "83f03c1b",
   "metadata": {},
   "outputs": [],
   "source": []
  },
  {
   "cell_type": "code",
   "execution_count": null,
   "id": "b0cd3f4e",
   "metadata": {},
   "outputs": [],
   "source": []
  }
 ],
 "metadata": {
  "kernelspec": {
   "display_name": "Python 3 (ipykernel)",
   "language": "python",
   "name": "python3"
  },
  "language_info": {
   "codemirror_mode": {
    "name": "ipython",
    "version": 3
   },
   "file_extension": ".py",
   "mimetype": "text/x-python",
   "name": "python",
   "nbconvert_exporter": "python",
   "pygments_lexer": "ipython3",
   "version": "3.10.9"
  }
 },
 "nbformat": 4,
 "nbformat_minor": 5
}
